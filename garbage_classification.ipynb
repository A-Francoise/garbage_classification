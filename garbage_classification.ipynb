{
 "cells": [
  {
   "cell_type": "code",
   "execution_count": 131,
   "id": "f5bbc481",
   "metadata": {},
   "outputs": [
    {
     "name": "stdout",
     "output_type": "stream",
     "text": [
      "Version TensorFlow : 2.20.0\n",
      "GPU disponible : [PhysicalDevice(name='/physical_device:GPU:0', device_type='GPU')]\n"
     ]
    }
   ],
   "source": [
    "import pandas as pd\n",
    "from pathlib import Path\n",
    "import seaborn as sns\n",
    "import matplotlib.pyplot as plt\n",
    "import sklearn\n",
    "import typing as t\n",
    "import tensorflow as tf\n",
    "import numpy as np\n",
    "print(\"Version TensorFlow :\", tf.__version__)\n",
    "print(\"GPU disponible :\", tf.config.list_physical_devices('GPU'))"
   ]
  },
  {
   "cell_type": "code",
   "execution_count": 132,
   "id": "619c3b02",
   "metadata": {},
   "outputs": [
    {
     "data": {
      "image/png": "[encoded data removed]",
      "text/plain": [
       "<Figure size 640x480 with 1 Axes>"
      ]
     },
     "metadata": {},
     "output_type": "display_data"
    },
    {
     "data": {
      "text/html": [
       "<div>\n",
       "<style scoped>\n",
       "    .dataframe tbody tr th:only-of-type {\n",
       "        vertical-align: middle;\n",
       "    }\n",
       "\n",
       "    .dataframe tbody tr th {\n",
       "        vertical-align: top;\n",
       "    }\n",
       "\n",
       "    .dataframe thead th {\n",
       "        text-align: right;\n",
       "    }\n",
       "</style>\n",
       "<table border=\"1\" class=\"dataframe\">\n",
       "  <thead>\n",
       "    <tr style=\"text-align: right;\">\n",
       "      <th></th>\n",
       "      <th>filename</th>\n",
       "      <th>label</th>\n",
       "    </tr>\n",
       "  </thead>\n",
       "  <tbody>\n",
       "    <tr>\n",
       "      <th>0</th>\n",
       "      <td>cardboard_02038.jpg</td>\n",
       "      <td>cardboard</td>\n",
       "    </tr>\n",
       "    <tr>\n",
       "      <th>1</th>\n",
       "      <td>cardboard_02320.jpg</td>\n",
       "      <td>cardboard</td>\n",
       "    </tr>\n",
       "    <tr>\n",
       "      <th>2</th>\n",
       "      <td>cardboard_01728.jpg</td>\n",
       "      <td>cardboard</td>\n",
       "    </tr>\n",
       "    <tr>\n",
       "      <th>3</th>\n",
       "      <td>cardboard_00093.jpg</td>\n",
       "      <td>cardboard</td>\n",
       "    </tr>\n",
       "    <tr>\n",
       "      <th>4</th>\n",
       "      <td>cardboard_00094.jpg</td>\n",
       "      <td>cardboard</td>\n",
       "    </tr>\n",
       "  </tbody>\n",
       "</table>\n",
       "</div>"
      ],
      "text/plain": [
       "              filename      label\n",
       "0  cardboard_02038.jpg  cardboard\n",
       "1  cardboard_02320.jpg  cardboard\n",
       "2  cardboard_01728.jpg  cardboard\n",
       "3  cardboard_00093.jpg  cardboard\n",
       "4  cardboard_00094.jpg  cardboard"
      ]
     },
     "execution_count": 132,
     "metadata": {},
     "output_type": "execute_result"
    }
   ],
   "source": [
    "metadata = pd.read_csv(Path(\"Garbage_Dataset_Classification/metadata.csv\"))\n",
    "\n",
    "\n",
    "def plot_label_distribution(\n",
    "    metadata_df: pd.DataFrame,\n",
    "    label_column:str=\"label\",\n",
    "    title: str = \"Label count\",\n",
    "    y_lim:t.Optional[t.Tuple[int, int]] = None\n",
    "):\n",
    "    \"\"\"Plot the label distribution as barplot.\n",
    "\n",
    "    Args:\n",
    "        metadata (pd.DataFrame): The metadata dataframe.\n",
    "        label_column (str, optional): name of the label column.\n",
    "            Defaults to \"label\".\n",
    "        title (str, optional): Title of the figure. Defaults to \"label count\"\n",
    "        y_lim (tuple, optional): y_lim tuple. See matplotlib docs.\n",
    "            Defaults to None.\n",
    "        \n",
    "    \"\"\"\n",
    "    label_distribution = pd.DataFrame(metadata_df[label_column].value_counts()).reset_index()\n",
    "\n",
    "    plt.title(title)\n",
    "    plt.grid()\n",
    "    sns.barplot(label_distribution, x=label_column, y=\"count\", hue=label_column)\n",
    "    if y_lim:\n",
    "        plt.ylim(y_lim)\n",
    "    plt.show()\n",
    "\n",
    "plot_label_distribution(metadata_df=metadata)\n",
    "metadata.head()"
   ]
  },
  {
   "cell_type": "code",
   "execution_count": 133,
   "id": "478a3a1c",
   "metadata": {},
   "outputs": [
    {
     "data": {
      "text/plain": [
       "['cardboard', 'glass', 'metal', 'paper', 'plastic', 'trash']"
      ]
     },
     "execution_count": 133,
     "metadata": {},
     "output_type": "execute_result"
    }
   ],
   "source": [
    "CLASSES = ['cardboard', 'glass', 'metal', 'paper', 'plastic', 'trash']\n",
    "CLASSES"
   ]
  },
  {
   "cell_type": "code",
   "execution_count": 134,
   "id": "aaea407a",
   "metadata": {},
   "outputs": [
    {
     "data": {
      "text/html": [
       "<div>\n",
       "<style scoped>\n",
       "    .dataframe tbody tr th:only-of-type {\n",
       "        vertical-align: middle;\n",
       "    }\n",
       "\n",
       "    .dataframe tbody tr th {\n",
       "        vertical-align: top;\n",
       "    }\n",
       "\n",
       "    .dataframe thead th {\n",
       "        text-align: right;\n",
       "    }\n",
       "</style>\n",
       "<table border=\"1\" class=\"dataframe\">\n",
       "  <thead>\n",
       "    <tr style=\"text-align: right;\">\n",
       "      <th></th>\n",
       "      <th>filename</th>\n",
       "      <th>label</th>\n",
       "    </tr>\n",
       "  </thead>\n",
       "  <tbody>\n",
       "    <tr>\n",
       "      <th>0</th>\n",
       "      <td>Garbage_Dataset_Classification/images/cardboar...</td>\n",
       "      <td>cardboard</td>\n",
       "    </tr>\n",
       "    <tr>\n",
       "      <th>1</th>\n",
       "      <td>Garbage_Dataset_Classification/images/cardboar...</td>\n",
       "      <td>cardboard</td>\n",
       "    </tr>\n",
       "    <tr>\n",
       "      <th>2</th>\n",
       "      <td>Garbage_Dataset_Classification/images/cardboar...</td>\n",
       "      <td>cardboard</td>\n",
       "    </tr>\n",
       "    <tr>\n",
       "      <th>3</th>\n",
       "      <td>Garbage_Dataset_Classification/images/cardboar...</td>\n",
       "      <td>cardboard</td>\n",
       "    </tr>\n",
       "    <tr>\n",
       "      <th>4</th>\n",
       "      <td>Garbage_Dataset_Classification/images/cardboar...</td>\n",
       "      <td>cardboard</td>\n",
       "    </tr>\n",
       "    <tr>\n",
       "      <th>...</th>\n",
       "      <td>...</td>\n",
       "      <td>...</td>\n",
       "    </tr>\n",
       "    <tr>\n",
       "      <th>13896</th>\n",
       "      <td>Garbage_Dataset_Classification/images/paper/pa...</td>\n",
       "      <td>paper</td>\n",
       "    </tr>\n",
       "    <tr>\n",
       "      <th>13897</th>\n",
       "      <td>Garbage_Dataset_Classification/images/paper/pa...</td>\n",
       "      <td>paper</td>\n",
       "    </tr>\n",
       "    <tr>\n",
       "      <th>13898</th>\n",
       "      <td>Garbage_Dataset_Classification/images/paper/pa...</td>\n",
       "      <td>paper</td>\n",
       "    </tr>\n",
       "    <tr>\n",
       "      <th>13899</th>\n",
       "      <td>Garbage_Dataset_Classification/images/paper/pa...</td>\n",
       "      <td>paper</td>\n",
       "    </tr>\n",
       "    <tr>\n",
       "      <th>13900</th>\n",
       "      <td>Garbage_Dataset_Classification/images/paper/pa...</td>\n",
       "      <td>paper</td>\n",
       "    </tr>\n",
       "  </tbody>\n",
       "</table>\n",
       "<p>13901 rows × 2 columns</p>\n",
       "</div>"
      ],
      "text/plain": [
       "                                                filename      label\n",
       "0      Garbage_Dataset_Classification/images/cardboar...  cardboard\n",
       "1      Garbage_Dataset_Classification/images/cardboar...  cardboard\n",
       "2      Garbage_Dataset_Classification/images/cardboar...  cardboard\n",
       "3      Garbage_Dataset_Classification/images/cardboar...  cardboard\n",
       "4      Garbage_Dataset_Classification/images/cardboar...  cardboard\n",
       "...                                                  ...        ...\n",
       "13896  Garbage_Dataset_Classification/images/paper/pa...      paper\n",
       "13897  Garbage_Dataset_Classification/images/paper/pa...      paper\n",
       "13898  Garbage_Dataset_Classification/images/paper/pa...      paper\n",
       "13899  Garbage_Dataset_Classification/images/paper/pa...      paper\n",
       "13900  Garbage_Dataset_Classification/images/paper/pa...      paper\n",
       "\n",
       "[13901 rows x 2 columns]"
      ]
     },
     "execution_count": 134,
     "metadata": {},
     "output_type": "execute_result"
    }
   ],
   "source": [
    "RAW_IMAGE_DIR = Path(\"Garbage_Dataset_Classification/images\")\n",
    "\n",
    "\n",
    "def compute_relative_path(\n",
    "    row: pd.Series, raw_image_dir: Path = RAW_IMAGE_DIR, to_str: bool = True\n",
    "):\n",
    "    image_path = raw_image_dir.joinpath(row[\"label\"], row[\"filename\"])\n",
    "    if to_str:\n",
    "        # tensorflow doesn't handle Posix Path well. Use string instead.\n",
    "        image_path = str(image_path)\n",
    "    return image_path\n",
    "\n",
    "\n",
    "metadata[\"filename\"] = metadata.apply(compute_relative_path, axis=1)\n",
    "metadata"
   ]
  },
  {
   "cell_type": "code",
   "execution_count": null,
   "id": "8dec76ba",
   "metadata": {},
   "outputs": [],
   "source": []
  },
  {
   "cell_type": "code",
   "execution_count": 135,
   "id": "717f2519",
   "metadata": {},
   "outputs": [
    {
     "name": "stdout",
     "output_type": "stream",
     "text": [
      "metadata label\n",
      "trash        2500\n",
      "glass        2500\n",
      "paper        2315\n",
      "plastic      2288\n",
      "cardboard    2214\n",
      "metal        2084\n",
      "Name: count, dtype: int64 \n",
      "\n",
      "\n",
      "evaluation_set label\n",
      "trash        741\n",
      "glass        713\n",
      "plastic      705\n",
      "paper        700\n",
      "cardboard    658\n",
      "metal        654\n",
      "Name: count, dtype: int64 \n",
      "\n",
      "\n"
     ]
    },
    {
     "data": {
      "image/png": "[encoded data removed]",
      "text/plain": [
       "<Figure size 640x480 with 1 Axes>"
      ]
     },
     "metadata": {},
     "output_type": "display_data"
    },
    {
     "name": "stdout",
     "output_type": "stream",
     "text": [
      "train_valid_set label\n",
      "glass        1787\n",
      "trash        1759\n",
      "paper        1615\n",
      "plastic      1583\n",
      "cardboard    1556\n",
      "metal        1430\n",
      "Name: count, dtype: int64 \n",
      "\n",
      "\n",
      "label\n",
      "glass        1787\n",
      "trash        1759\n",
      "paper        1615\n",
      "plastic      1583\n",
      "cardboard    1556\n",
      "metal        1430\n",
      "Name: count, dtype: int64 \n",
      "\n",
      "\n",
      "train label\n",
      "trash        1241\n",
      "glass        1215\n",
      "paper        1161\n",
      "plastic      1113\n",
      "cardboard    1086\n",
      "metal         995\n",
      "Name: count, dtype: int64 \n",
      "\n",
      "\n",
      "valid_set label\n",
      "glass        572\n",
      "trash        518\n",
      "cardboard    470\n",
      "plastic      470\n",
      "paper        454\n",
      "metal        435\n",
      "Name: count, dtype: int64 \n",
      "\n",
      "\n"
     ]
    },
    {
     "data": {
      "image/png": "[encoded data removed]",
      "text/plain": [
       "<Figure size 640x480 with 1 Axes>"
      ]
     },
     "metadata": {},
     "output_type": "display_data"
    },
    {
     "data": {
      "image/png": "[encoded data removed]",
      "text/plain": [
       "<Figure size 640x480 with 1 Axes>"
      ]
     },
     "metadata": {},
     "output_type": "display_data"
    }
   ],
   "source": [
    "# Dataset to Train-valid and Eval set\n",
    "# - Split en train (70%), eval (30%)\n",
    "X_train_valid, X_eval, y_train_valid, y_eval = sklearn.model_selection.train_test_split(\n",
    "    metadata[\"filename\"],\n",
    "    metadata[\"label\"],\n",
    "    test_size=0.3,\n",
    "    random_state=42,\n",
    ")\n",
    "print(\"metadata\", metadata[\"label\"].value_counts(), '\\n\\n')\n",
    "\n",
    "EVALUATION_SET = pd.concat([X_eval, y_eval], axis=1)\n",
    "\n",
    "print(\"evaluation_set\", EVALUATION_SET[\"label\"].value_counts(), '\\n\\n')\n",
    "\n",
    "y_lim = [0, 2500]\n",
    "plot_label_distribution(\n",
    "    metadata_df=EVALUATION_SET,\n",
    "    label_column=\"label\",\n",
    "    title=\"evaluation_set label count\",\n",
    "    y_lim=y_lim\n",
    ")\n",
    "\n",
    "train_valid_set = pd.concat([X_train_valid, y_train_valid], axis=1)\n",
    "print(\"train_valid_set\", train_valid_set[\"label\"].value_counts(), '\\n\\n')\n",
    "\n",
    "# Dataset to Train and valid set\n",
    "# - Split en train (70%), valid (30%)\n",
    "X_train, X_val, y_train, y_val = sklearn.model_selection.train_test_split(\n",
    "    train_valid_set[\"filename\"],\n",
    "    train_valid_set[\"label\"],\n",
    "    test_size=0.3,\n",
    "    random_state=42,\n",
    ")\n",
    "\n",
    "print(train_valid_set[\"label\"].value_counts(), '\\n\\n')\n",
    "\n",
    "TRAIN_SET = pd.concat([X_train, y_train], axis=1)\n",
    "VALID_SET = pd.concat([X_val, y_val], axis=1)\n",
    "print(\"train\", TRAIN_SET[\"label\"].value_counts(), '\\n\\n')\n",
    "\n",
    "print(\"valid_set\",VALID_SET[\"label\"].value_counts(), '\\n\\n')\n",
    "\n",
    "plot_label_distribution(\n",
    "    metadata_df=TRAIN_SET,\n",
    "    label_column=\"label\",\n",
    "    title=\"train_set label count\",\n",
    "    y_lim=y_lim\n",
    ")\n",
    "plot_label_distribution(\n",
    "    metadata_df=VALID_SET,\n",
    "    label_column=\"label\",\n",
    "    title=\"valid_set label count\",\n",
    "    y_lim=y_lim\n",
    ")"
   ]
  },
  {
   "cell_type": "code",
   "execution_count": 136,
   "id": "c341386d",
   "metadata": {},
   "outputs": [
    {
     "data": {
      "text/html": [
       "<div>\n",
       "<style scoped>\n",
       "    .dataframe tbody tr th:only-of-type {\n",
       "        vertical-align: middle;\n",
       "    }\n",
       "\n",
       "    .dataframe tbody tr th {\n",
       "        vertical-align: top;\n",
       "    }\n",
       "\n",
       "    .dataframe thead th {\n",
       "        text-align: right;\n",
       "    }\n",
       "</style>\n",
       "<table border=\"1\" class=\"dataframe\">\n",
       "  <thead>\n",
       "    <tr style=\"text-align: right;\">\n",
       "      <th></th>\n",
       "      <th>filename</th>\n",
       "      <th>label</th>\n",
       "    </tr>\n",
       "  </thead>\n",
       "  <tbody>\n",
       "    <tr>\n",
       "      <th>13409</th>\n",
       "      <td>Garbage_Dataset_Classification/images/paper/pa...</td>\n",
       "      <td>paper</td>\n",
       "    </tr>\n",
       "    <tr>\n",
       "      <th>4191</th>\n",
       "      <td>Garbage_Dataset_Classification/images/plastic/...</td>\n",
       "      <td>plastic</td>\n",
       "    </tr>\n",
       "    <tr>\n",
       "      <th>1844</th>\n",
       "      <td>Garbage_Dataset_Classification/images/cardboar...</td>\n",
       "      <td>cardboard</td>\n",
       "    </tr>\n",
       "    <tr>\n",
       "      <th>6369</th>\n",
       "      <td>Garbage_Dataset_Classification/images/glass/gl...</td>\n",
       "      <td>glass</td>\n",
       "    </tr>\n",
       "    <tr>\n",
       "      <th>11564</th>\n",
       "      <td>Garbage_Dataset_Classification/images/trash/tr...</td>\n",
       "      <td>trash</td>\n",
       "    </tr>\n",
       "  </tbody>\n",
       "</table>\n",
       "</div>"
      ],
      "text/plain": [
       "                                                filename      label\n",
       "13409  Garbage_Dataset_Classification/images/paper/pa...      paper\n",
       "4191   Garbage_Dataset_Classification/images/plastic/...    plastic\n",
       "1844   Garbage_Dataset_Classification/images/cardboar...  cardboard\n",
       "6369   Garbage_Dataset_Classification/images/glass/gl...      glass\n",
       "11564  Garbage_Dataset_Classification/images/trash/tr...      trash"
      ]
     },
     "execution_count": 136,
     "metadata": {},
     "output_type": "execute_result"
    }
   ],
   "source": [
    "SPLIT_DICT = {\"EVALUATION_SET\" : EVALUATION_SET, \"TRAIN_SET\":TRAIN_SET, \"VALID_SET\": VALID_SET}\n",
    "for split_name, split_df in SPLIT_DICT.items():\n",
    "    split_df.to_csv(Path(split_name).with_suffix(\".csv\"))\n",
    "EVALUATION_SET.sample(frac=1).head()"
   ]
  },
  {
   "cell_type": "code",
   "execution_count": 140,
   "id": "ae0ada4f",
   "metadata": {},
   "outputs": [],
   "source": [
    "# Function to convert a label into a one-hot encoded array\n",
    "# label_to_index = {label: i for i, label in enumerate(CLASSES)}\n",
    "\n",
    "label_to_index = tf.lookup.KeyValueTensorInitializer(\n",
    "    keys=tf.constant(CLASSES),\n",
    "    values=tf.constant(list(range(len(CLASSES))), dtype=tf.int64)\n",
    ")\n",
    "label_to_index = tf.lookup.StaticHashTable(label_to_index, default_value=-1)\n",
    "\n",
    "def one_hot_encode(features: np.ndarray, label: str, num_classes=len(CLASSES)):\n",
    "    label_encoded = label_to_index.lookup(label) # string to integer \n",
    "    one_hot = tf.one_hot(label_encoded, num_classes) # int to one hot vector\n",
    "    return features, one_hot\n",
    "\n",
    "\n",
    "def load_image(path_to_image: str, label: str):\n",
    "    img = tf.io.read_file(path_to_image)\n",
    "    img = tf.image.decode_jpeg(img, channels=3)  # rgb image\n",
    "    img = tf.image.resize(img, [256, 256])  # 256x256 image\n",
    "    img = img / 255.0  # Normalize [0,1]\n",
    "    return img, label\n",
    "\n",
    "\n",
    "def build_image_dataset(dataframe: pd.DataFrame):\n",
    "    tf_dataset = tf.data.Dataset.from_tensor_slices(\n",
    "        (dataframe[\"filename\"], dataframe[\"label\"])\n",
    "    )\n",
    "    tf_dataset = tf_dataset.map(load_image)\n",
    "    tf_dataset = tf_dataset.map(one_hot_encode)\n",
    "    return tf_dataset.batch(32).cache()\n",
    "\n",
    "tf_eval_dataset = build_image_dataset(EVALUATION_SET)\n",
    "tf_train_dataset = build_image_dataset(TRAIN_SET)\n",
    "tf_valid_dataset = build_image_dataset(VALID_SET)\n"
   ]
  },
  {
   "cell_type": "code",
   "execution_count": null,
   "id": "d90d00b7",
   "metadata": {},
   "outputs": [],
   "source": [
    "import tensorflow as tf\n",
    "from tensorflow.keras.applications import ResNet50\n",
    "from tensorflow.keras import layers, models\n",
    "\n",
    "\n",
    "# Charger ResNet50 pré-entraîné\n",
    "base_model = ResNet50(weights='imagenet', include_top=False, input_shape=(256,256,3))\n",
    "base_model.trainable = False  # On gèle les poids pour l'instant\n",
    "\n",
    "garbage_cnn = models.Sequential([\n",
    "    base_model,\n",
    "    layers.GlobalAveragePooling2D(),\n",
    "    layers.Dense(256, activation='relu'),\n",
    "    layers.Dropout(0.5),\n",
    "    layers.Dense(len(CLASSES), activation='sigmoid')  # num_classes = nombre de classes de ton dataset\n",
    "])\n",
    "\n",
    "garbage_cnn.compile(\n",
    "    optimizer='adam',\n",
    "    loss='binary_crossentropy',\n",
    "    metrics=['accuracy']\n",
    ")\n"
   ]
  },
  {
   "cell_type": "code",
   "execution_count": null,
   "id": "6369fab6",
   "metadata": {},
   "outputs": [],
   "source": [
    "from tensorflow.keras.callbacks import (\n",
    "    EarlyStopping,\n",
    "    TensorBoard,\n",
    "    ModelCheckpoint,\n",
    "    ReduceLROnPlateau,\n",
    ")\n",
    "import datetime\n",
    "\n",
    "early_stop = EarlyStopping(\n",
    "    monitor=\"val_loss\", patience=5, restore_best_weights=True\n",
    ")\n",
    "\n",
    "# tensorboard settings\n",
    "log_dir = \"logs/fit/\" + datetime.datetime.now().strftime(\"%Y%m%d-%H%M%S\")\n",
    "tensorboard_callback = TensorBoard(\n",
    "    log_dir=log_dir, histogram_freq=1, update_freq=\"epoch\"\n",
    ")"
   ]
  },
  {
   "cell_type": "code",
   "execution_count": null,
   "id": "e4df304a",
   "metadata": {},
   "outputs": [
    {
     "name": "stdout",
     "output_type": "stream",
     "text": [
      "Epoch 1/10\n"
     ]
    },
    {
     "name": "stderr",
     "output_type": "stream",
     "text": [
      "2025-09-25 10:09:05.306994: I external/local_xla/xla/service/service.cc:163] XLA service 0x7eb3440024c0 initialized for platform CUDA (this does not guarantee that XLA will be used). Devices:\n",
      "2025-09-25 10:09:05.307015: I external/local_xla/xla/service/service.cc:171]   StreamExecutor device (0): NVIDIA GeForce GTX 1660 Ti, Compute Capability 7.5\n",
      "2025-09-25 10:09:05.442422: I tensorflow/compiler/mlir/tensorflow/utils/dump_mlir_util.cc:269] disabling MLIR crash reproducer, set env var `MLIR_CRASH_REPRODUCER_DIRECTORY` to enable.\n",
      "2025-09-25 10:09:06.380597: I external/local_xla/xla/stream_executor/cuda/cuda_dnn.cc:473] Loaded cuDNN version 91002\n",
      "2025-09-25 10:09:07.624091: I external/local_xla/xla/service/gpu/autotuning/conv_algorithm_picker.cc:546] Omitted potentially buggy algorithm eng14{k25=2} for conv (f32[32,64,64,64]{3,2,1,0}, u8[0]{0}) custom-call(f32[32,64,64,64]{3,2,1,0}, f32[64,64,3,3]{3,2,1,0}, f32[64]{0}), window={size=3x3 pad=1_1x1_1}, dim_labels=bf01_oi01->bf01, custom_call_target=\"__cudnn$convBiasActivationForward\", backend_config={\"operation_queue_id\":\"0\",\"wait_on_operation_queues\":[],\"cudnn_conv_backend_config\":{\"activation_mode\":\"kNone\",\"conv_result_scale\":1,\"side_input_scale\":0,\"leakyrelu_alpha\":0},\"force_earliest_schedule\":false,\"reification_cost\":[]}\n",
      "2025-09-25 10:09:08.384321: I external/local_xla/xla/service/gpu/autotuning/conv_algorithm_picker.cc:546] Omitted potentially buggy algorithm eng14{k25=2} for conv (f32[32,128,32,32]{3,2,1,0}, u8[0]{0}) custom-call(f32[32,128,32,32]{3,2,1,0}, f32[128,128,3,3]{3,2,1,0}, f32[128]{0}), window={size=3x3 pad=1_1x1_1}, dim_labels=bf01_oi01->bf01, custom_call_target=\"__cudnn$convBiasActivationForward\", backend_config={\"operation_queue_id\":\"0\",\"wait_on_operation_queues\":[],\"cudnn_conv_backend_config\":{\"activation_mode\":\"kNone\",\"conv_result_scale\":1,\"side_input_scale\":0,\"leakyrelu_alpha\":0},\"force_earliest_schedule\":false,\"reification_cost\":[]}\n",
      "2025-09-25 10:09:09.092669: I external/local_xla/xla/service/gpu/autotuning/conv_algorithm_picker.cc:546] Omitted potentially buggy algorithm eng14{k25=2} for conv (f32[32,256,16,16]{3,2,1,0}, u8[0]{0}) custom-call(f32[32,256,16,16]{3,2,1,0}, f32[256,256,3,3]{3,2,1,0}, f32[256]{0}), window={size=3x3 pad=1_1x1_1}, dim_labels=bf01_oi01->bf01, custom_call_target=\"__cudnn$convBiasActivationForward\", backend_config={\"operation_queue_id\":\"0\",\"wait_on_operation_queues\":[],\"cudnn_conv_backend_config\":{\"activation_mode\":\"kNone\",\"conv_result_scale\":1,\"side_input_scale\":0,\"leakyrelu_alpha\":0},\"force_earliest_schedule\":false,\"reification_cost\":[]}\n",
      "2025-09-25 10:09:09.748690: I external/local_xla/xla/service/gpu/autotuning/conv_algorithm_picker.cc:546] Omitted potentially buggy algorithm eng14{k25=2} for conv (f32[32,512,8,8]{3,2,1,0}, u8[0]{0}) custom-call(f32[32,512,8,8]{3,2,1,0}, f32[512,512,3,3]{3,2,1,0}, f32[512]{0}), window={size=3x3 pad=1_1x1_1}, dim_labels=bf01_oi01->bf01, custom_call_target=\"__cudnn$convBiasActivationForward\", backend_config={\"operation_queue_id\":\"0\",\"wait_on_operation_queues\":[],\"cudnn_conv_backend_config\":{\"activation_mode\":\"kNone\",\"conv_result_scale\":1,\"side_input_scale\":0,\"leakyrelu_alpha\":0},\"force_earliest_schedule\":false,\"reification_cost\":[]}\n"
     ]
    },
    {
     "name": "stdout",
     "output_type": "stream",
     "text": [
      "\u001b[1m  2/213\u001b[0m \u001b[37m━━━━━━━━━━━━━━━━━━━━\u001b[0m \u001b[1m21s\u001b[0m 101ms/step - accuracy: 0.1406 - loss: 0.9796"
     ]
    },
    {
     "name": "stderr",
     "output_type": "stream",
     "text": [
      "I0000 00:00:1758787751.202703    9626 device_compiler.h:196] Compiled cluster using XLA!  This line is logged at most once for the lifetime of the process.\n"
     ]
    },
    {
     "name": "stdout",
     "output_type": "stream",
     "text": [
      "\u001b[1m212/213\u001b[0m \u001b[32m━━━━━━━━━━━━━━━━━━━\u001b[0m\u001b[37m━\u001b[0m \u001b[1m0s\u001b[0m 105ms/step - accuracy: 0.1915 - loss: 0.5188"
     ]
    },
    {
     "name": "stderr",
     "output_type": "stream",
     "text": [
      "2025-09-25 10:09:34.993443: I external/local_xla/xla/service/gpu/autotuning/conv_algorithm_picker.cc:546] Omitted potentially buggy algorithm eng14{k25=2} for conv (f32[27,64,64,64]{3,2,1,0}, u8[0]{0}) custom-call(f32[27,64,64,64]{3,2,1,0}, f32[64,64,3,3]{3,2,1,0}, f32[64]{0}), window={size=3x3 pad=1_1x1_1}, dim_labels=bf01_oi01->bf01, custom_call_target=\"__cudnn$convBiasActivationForward\", backend_config={\"operation_queue_id\":\"0\",\"wait_on_operation_queues\":[],\"cudnn_conv_backend_config\":{\"activation_mode\":\"kNone\",\"conv_result_scale\":1,\"side_input_scale\":0,\"leakyrelu_alpha\":0},\"force_earliest_schedule\":false,\"reification_cost\":[]}\n",
      "2025-09-25 10:09:35.624346: I external/local_xla/xla/service/gpu/autotuning/conv_algorithm_picker.cc:546] Omitted potentially buggy algorithm eng14{k25=2} for conv (f32[27,128,32,32]{3,2,1,0}, u8[0]{0}) custom-call(f32[27,128,32,32]{3,2,1,0}, f32[128,128,3,3]{3,2,1,0}, f32[128]{0}), window={size=3x3 pad=1_1x1_1}, dim_labels=bf01_oi01->bf01, custom_call_target=\"__cudnn$convBiasActivationForward\", backend_config={\"operation_queue_id\":\"0\",\"wait_on_operation_queues\":[],\"cudnn_conv_backend_config\":{\"activation_mode\":\"kNone\",\"conv_result_scale\":1,\"side_input_scale\":0,\"leakyrelu_alpha\":0},\"force_earliest_schedule\":false,\"reification_cost\":[]}\n",
      "2025-09-25 10:09:36.204263: I external/local_xla/xla/service/gpu/autotuning/conv_algorithm_picker.cc:546] Omitted potentially buggy algorithm eng14{k25=2} for conv (f32[27,256,16,16]{3,2,1,0}, u8[0]{0}) custom-call(f32[27,256,16,16]{3,2,1,0}, f32[256,256,3,3]{3,2,1,0}, f32[256]{0}), window={size=3x3 pad=1_1x1_1}, dim_labels=bf01_oi01->bf01, custom_call_target=\"__cudnn$convBiasActivationForward\", backend_config={\"operation_queue_id\":\"0\",\"wait_on_operation_queues\":[],\"cudnn_conv_backend_config\":{\"activation_mode\":\"kNone\",\"conv_result_scale\":1,\"side_input_scale\":0,\"leakyrelu_alpha\":0},\"force_earliest_schedule\":false,\"reification_cost\":[]}\n",
      "2025-09-25 10:09:36.746488: I external/local_xla/xla/service/gpu/autotuning/conv_algorithm_picker.cc:546] Omitted potentially buggy algorithm eng14{k25=2} for conv (f32[27,512,8,8]{3,2,1,0}, u8[0]{0}) custom-call(f32[27,512,8,8]{3,2,1,0}, f32[512,512,3,3]{3,2,1,0}, f32[512]{0}), window={size=3x3 pad=1_1x1_1}, dim_labels=bf01_oi01->bf01, custom_call_target=\"__cudnn$convBiasActivationForward\", backend_config={\"operation_queue_id\":\"0\",\"wait_on_operation_queues\":[],\"cudnn_conv_backend_config\":{\"activation_mode\":\"kNone\",\"conv_result_scale\":1,\"side_input_scale\":0,\"leakyrelu_alpha\":0},\"force_earliest_schedule\":false,\"reification_cost\":[]}\n"
     ]
    },
    {
     "name": "stdout",
     "output_type": "stream",
     "text": [
      "\u001b[1m213/213\u001b[0m \u001b[32m━━━━━━━━━━━━━━━━━━━━\u001b[0m\u001b[37m\u001b[0m \u001b[1m0s\u001b[0m 127ms/step - accuracy: 0.1916 - loss: 0.5186"
     ]
    },
    {
     "name": "stderr",
     "output_type": "stream",
     "text": [
      "2025-09-25 10:09:49.214164: I external/local_xla/xla/service/gpu/autotuning/conv_algorithm_picker.cc:546] Omitted potentially buggy algorithm eng14{k25=2} for conv (f32[7,64,64,64]{3,2,1,0}, u8[0]{0}) custom-call(f32[7,64,64,64]{3,2,1,0}, f32[64,64,3,3]{3,2,1,0}, f32[64]{0}), window={size=3x3 pad=1_1x1_1}, dim_labels=bf01_oi01->bf01, custom_call_target=\"__cudnn$convBiasActivationForward\", backend_config={\"operation_queue_id\":\"0\",\"wait_on_operation_queues\":[],\"cudnn_conv_backend_config\":{\"activation_mode\":\"kNone\",\"conv_result_scale\":1,\"side_input_scale\":0,\"leakyrelu_alpha\":0},\"force_earliest_schedule\":false,\"reification_cost\":[]}\n",
      "2025-09-25 10:09:49.550884: I external/local_xla/xla/service/gpu/autotuning/conv_algorithm_picker.cc:546] Omitted potentially buggy algorithm eng14{k25=2} for conv (f32[7,128,32,32]{3,2,1,0}, u8[0]{0}) custom-call(f32[7,128,32,32]{3,2,1,0}, f32[128,128,3,3]{3,2,1,0}, f32[128]{0}), window={size=3x3 pad=1_1x1_1}, dim_labels=bf01_oi01->bf01, custom_call_target=\"__cudnn$convBiasActivationForward\", backend_config={\"operation_queue_id\":\"0\",\"wait_on_operation_queues\":[],\"cudnn_conv_backend_config\":{\"activation_mode\":\"kNone\",\"conv_result_scale\":1,\"side_input_scale\":0,\"leakyrelu_alpha\":0},\"force_earliest_schedule\":false,\"reification_cost\":[]}\n",
      "2025-09-25 10:09:49.786336: I external/local_xla/xla/service/gpu/autotuning/conv_algorithm_picker.cc:546] Omitted potentially buggy algorithm eng14{k25=2} for conv (f32[7,256,16,16]{3,2,1,0}, u8[0]{0}) custom-call(f32[7,256,16,16]{3,2,1,0}, f32[256,256,3,3]{3,2,1,0}, f32[256]{0}), window={size=3x3 pad=1_1x1_1}, dim_labels=bf01_oi01->bf01, custom_call_target=\"__cudnn$convBiasActivationForward\", backend_config={\"operation_queue_id\":\"0\",\"wait_on_operation_queues\":[],\"cudnn_conv_backend_config\":{\"activation_mode\":\"kNone\",\"conv_result_scale\":1,\"side_input_scale\":0,\"leakyrelu_alpha\":0},\"force_earliest_schedule\":false,\"reification_cost\":[]}\n",
      "2025-09-25 10:09:50.035141: I external/local_xla/xla/service/gpu/autotuning/conv_algorithm_picker.cc:546] Omitted potentially buggy algorithm eng14{k25=2} for conv (f32[7,512,8,8]{3,2,1,0}, u8[0]{0}) custom-call(f32[7,512,8,8]{3,2,1,0}, f32[512,512,3,3]{3,2,1,0}, f32[512]{0}), window={size=3x3 pad=1_1x1_1}, dim_labels=bf01_oi01->bf01, custom_call_target=\"__cudnn$convBiasActivationForward\", backend_config={\"operation_queue_id\":\"0\",\"wait_on_operation_queues\":[],\"cudnn_conv_backend_config\":{\"activation_mode\":\"kNone\",\"conv_result_scale\":1,\"side_input_scale\":0,\"leakyrelu_alpha\":0},\"force_earliest_schedule\":false,\"reification_cost\":[]}\n"
     ]
    },
    {
     "name": "stdout",
     "output_type": "stream",
     "text": [
      "\u001b[1m213/213\u001b[0m \u001b[32m━━━━━━━━━━━━━━━━━━━━\u001b[0m\u001b[37m\u001b[0m \u001b[1m49s\u001b[0m 187ms/step - accuracy: 0.2107 - loss: 0.4743 - val_accuracy: 0.2785 - val_loss: 0.4380\n",
      "Epoch 2/10\n",
      "\u001b[1m213/213\u001b[0m \u001b[32m━━━━━━━━━━━━━━━━━━━━\u001b[0m\u001b[37m\u001b[0m \u001b[1m29s\u001b[0m 135ms/step - accuracy: 0.2497 - loss: 0.4467 - val_accuracy: 0.2563 - val_loss: 0.4327\n",
      "Epoch 3/10\n",
      "\u001b[1m213/213\u001b[0m \u001b[32m━━━━━━━━━━━━━━━━━━━━\u001b[0m\u001b[37m\u001b[0m \u001b[1m29s\u001b[0m 135ms/step - accuracy: 0.2569 - loss: 0.4437 - val_accuracy: 0.2830 - val_loss: 0.4302\n",
      "Epoch 4/10\n",
      "\u001b[1m213/213\u001b[0m \u001b[32m━━━━━━━━━━━━━━━━━━━━\u001b[0m\u001b[37m\u001b[0m \u001b[1m29s\u001b[0m 135ms/step - accuracy: 0.2663 - loss: 0.4408 - val_accuracy: 0.2974 - val_loss: 0.4296\n",
      "Epoch 5/10\n",
      "\u001b[1m213/213\u001b[0m \u001b[32m━━━━━━━━━━━━━━━━━━━━\u001b[0m\u001b[37m\u001b[0m \u001b[1m29s\u001b[0m 135ms/step - accuracy: 0.2762 - loss: 0.4387 - val_accuracy: 0.3056 - val_loss: 0.4268\n",
      "Epoch 6/10\n",
      "\u001b[1m213/213\u001b[0m \u001b[32m━━━━━━━━━━━━━━━━━━━━\u001b[0m\u001b[37m\u001b[0m \u001b[1m29s\u001b[0m 134ms/step - accuracy: 0.2863 - loss: 0.4365 - val_accuracy: 0.3080 - val_loss: 0.4247\n",
      "Epoch 7/10\n",
      "\u001b[1m213/213\u001b[0m \u001b[32m━━━━━━━━━━━━━━━━━━━━\u001b[0m\u001b[37m\u001b[0m \u001b[1m29s\u001b[0m 136ms/step - accuracy: 0.2953 - loss: 0.4336 - val_accuracy: 0.3234 - val_loss: 0.4220\n",
      "Epoch 8/10\n",
      "\u001b[1m213/213\u001b[0m \u001b[32m━━━━━━━━━━━━━━━━━━━━\u001b[0m\u001b[37m\u001b[0m \u001b[1m29s\u001b[0m 135ms/step - accuracy: 0.2907 - loss: 0.4335 - val_accuracy: 0.3227 - val_loss: 0.4216\n",
      "Epoch 9/10\n",
      "\u001b[1m213/213\u001b[0m \u001b[32m━━━━━━━━━━━━━━━━━━━━\u001b[0m\u001b[37m\u001b[0m \u001b[1m29s\u001b[0m 134ms/step - accuracy: 0.2933 - loss: 0.4332 - val_accuracy: 0.3388 - val_loss: 0.4204\n",
      "Epoch 10/10\n",
      "\u001b[1m213/213\u001b[0m \u001b[32m━━━━━━━━━━━━━━━━━━━━\u001b[0m\u001b[37m\u001b[0m \u001b[1m29s\u001b[0m 135ms/step - accuracy: 0.3052 - loss: 0.4307 - val_accuracy: 0.3330 - val_loss: 0.4193\n"
     ]
    }
   ],
   "source": [
    "history_finetune = garbage_cnn.fit(\n",
    "    tf_train_dataset,\n",
    "    validation_data=tf_valid_dataset,\n",
    "    epochs=100,\n",
    "    callbacks=[tensorboard_callback, early_stop],\n",
    ")"
   ]
  },
  {
   "cell_type": "code",
   "execution_count": null,
   "id": "41185f4e",
   "metadata": {},
   "outputs": [],
   "source": []
  }
 ],
 "metadata": {
  "kernelspec": {
   "display_name": "garbage_class_venv",
   "language": "python",
   "name": "python3"
  },
  "language_info": {
   "codemirror_mode": {
    "name": "ipython",
    "version": 3
   },
   "file_extension": ".py",
   "mimetype": "text/x-python",
   "name": "python",
   "nbconvert_exporter": "python",
   "pygments_lexer": "ipython3",
   "version": "3.12.3"
  }
 },
 "nbformat": 4,
 "nbformat_minor": 5
}
